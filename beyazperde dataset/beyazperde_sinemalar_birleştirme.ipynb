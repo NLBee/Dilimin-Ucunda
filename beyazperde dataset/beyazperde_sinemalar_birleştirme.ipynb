{
 "cells": [
  {
   "cell_type": "code",
   "execution_count": null,
   "id": "f9e45583",
   "metadata": {},
   "outputs": [],
   "source": [
    "import pandas as pd\n",
    "import numpy as np"
   ]
  },
  {
   "cell_type": "code",
   "execution_count": null,
   "id": "cb158a7f",
   "metadata": {},
   "outputs": [],
   "source": [
    "df1 = pd.read_csv(\"beyazperde.csv\")\n",
    "df1"
   ]
  },
  {
   "cell_type": "code",
   "execution_count": null,
   "id": "6d8d82bc",
   "metadata": {},
   "outputs": [],
   "source": [
    "df2 = pd.read_csv(\"sinemalarcom.csv\")\n",
    "df2.rename(columns={\"org_isim\": \"orijinal_isim\"}, inplace=True)\n",
    "df2"
   ]
  },
  {
   "cell_type": "code",
   "execution_count": null,
   "id": "c40f4b89",
   "metadata": {},
   "outputs": [],
   "source": [
    "df = pd.merge(df1, df2, on=\"orijinal_isim\")\n",
    "df"
   ]
  },
  {
   "cell_type": "code",
   "execution_count": null,
   "id": "9ef724df",
   "metadata": {},
   "outputs": [],
   "source": [
    "df = df.assign(birleşim=[str(f'''{df[\"özet_x\"][i]} {df[\"özet_y\"][i]} {str(df[\"oyuncular_x\"][i]).strip(\"[]\").replace(\"'\", \"\").replace(\",\",\".\")}. {str(df[\"yönetmen_x\"][i]).strip(\"[]\").replace(\"'\", \"\").replace(\",\",\".\")}. {str(df[\"tür_x\"][i]).strip(\"[]\").replace(\"'\", \"\").replace(\",\",\".\")}''').lower() for i in range(len(df[\"orijinal_isim\"]))])\n",
    "df.drop_duplicates(subset=['orijinal_isim'], inplace=True)\n",
    "df.reset_index(drop=True, inplace=True)\n",
    "df"
   ]
  },
  {
   "cell_type": "code",
   "execution_count": null,
   "id": "e923dff1",
   "metadata": {},
   "outputs": [],
   "source": [
    "df.to_csv(\"beyazperde_sinemalar_birleşim.csv\")"
   ]
  }
 ],
 "metadata": {
  "kernelspec": {
   "display_name": "Python 3",
   "language": "python",
   "name": "python3"
  },
  "language_info": {
   "codemirror_mode": {
    "name": "ipython",
    "version": 3
   },
   "file_extension": ".py",
   "mimetype": "text/x-python",
   "name": "python",
   "nbconvert_exporter": "python",
   "pygments_lexer": "ipython3",
   "version": "3.9.5"
  }
 },
 "nbformat": 4,
 "nbformat_minor": 5
}
